{
 "cells": [
  {
   "cell_type": "code",
   "execution_count": 1,
   "id": "1e74d388-15db-4968-87d5-6fbbde06b1e4",
   "metadata": {},
   "outputs": [
    {
     "name": "stdout",
     "output_type": "stream",
     "text": [
      "-6 * I(1) + (0.5 * Z(1)) @ Z(4) + (0.5 * Z(2)) @ Z(3) + (0.5 * Z(3)) @ Z(5) + (0.5 * Z(4)) @ Z(4)\n"
     ]
    },
    {
     "ename": "DeviceError",
     "evalue": "Device borealis does not exist. Make sure the required plugin is installed.",
     "output_type": "error",
     "traceback": [
      "\u001b[1;31m---------------------------------------------------------------------------\u001b[0m",
      "\u001b[1;31mDeviceError\u001b[0m                               Traceback (most recent call last)",
      "Cell \u001b[1;32mIn[1], line 14\u001b[0m\n\u001b[0;32m     11\u001b[0m \u001b[38;5;28mprint\u001b[39m(H)\n\u001b[0;32m     13\u001b[0m \u001b[38;5;66;03m# Specify the hardware device (e.g., 'Borealis')\u001b[39;00m\n\u001b[1;32m---> 14\u001b[0m dev \u001b[38;5;241m=\u001b[39m \u001b[43mqml\u001b[49m\u001b[38;5;241;43m.\u001b[39;49m\u001b[43mdevice\u001b[49m\u001b[43m(\u001b[49m\u001b[38;5;124;43m\"\u001b[39;49m\u001b[38;5;124;43mborealis\u001b[39;49m\u001b[38;5;124;43m\"\u001b[39;49m\u001b[43m,\u001b[49m\u001b[43m \u001b[49m\u001b[43mwires\u001b[49m\u001b[38;5;241;43m=\u001b[39;49m\u001b[38;5;241;43m6\u001b[39;49m\u001b[43m,\u001b[49m\u001b[43m \u001b[49m\u001b[43mshots\u001b[49m\u001b[38;5;241;43m=\u001b[39;49m\u001b[38;5;241;43m1000\u001b[39;49m\u001b[43m)\u001b[49m\n\u001b[0;32m     16\u001b[0m \u001b[38;5;129m@qml\u001b[39m\u001b[38;5;241m.\u001b[39mqnode(dev)\n\u001b[0;32m     17\u001b[0m \u001b[38;5;28;01mdef\u001b[39;00m \u001b[38;5;21mcircuit\u001b[39m(params):\n\u001b[0;32m     18\u001b[0m     \u001b[38;5;28;01mfor\u001b[39;00m param, wire \u001b[38;5;129;01min\u001b[39;00m \u001b[38;5;28mzip\u001b[39m(params, H\u001b[38;5;241m.\u001b[39mwires):\n",
      "File \u001b[1;32m~\\AppData\\Local\\Programs\\Python\\Python39\\lib\\site-packages\\pennylane\\devices\\device_constructor.py:301\u001b[0m, in \u001b[0;36mdevice\u001b[1;34m(name, *args, **kwargs)\u001b[0m\n\u001b[0;32m    297\u001b[0m         dev \u001b[38;5;241m=\u001b[39m qml\u001b[38;5;241m.\u001b[39mdevices\u001b[38;5;241m.\u001b[39mLegacyDeviceFacade(dev)\n\u001b[0;32m    299\u001b[0m     \u001b[38;5;28;01mreturn\u001b[39;00m dev\n\u001b[1;32m--> 301\u001b[0m \u001b[38;5;28;01mraise\u001b[39;00m qml\u001b[38;5;241m.\u001b[39mDeviceError(\n\u001b[0;32m    302\u001b[0m     \u001b[38;5;124mf\u001b[39m\u001b[38;5;124m\"\u001b[39m\u001b[38;5;124mDevice \u001b[39m\u001b[38;5;132;01m{\u001b[39;00mname\u001b[38;5;132;01m}\u001b[39;00m\u001b[38;5;124m does not exist. Make sure the required plugin is installed.\u001b[39m\u001b[38;5;124m\"\u001b[39m\n\u001b[0;32m    303\u001b[0m )\n",
      "\u001b[1;31mDeviceError\u001b[0m: Device borealis does not exist. Make sure the required plugin is installed."
     ]
    }
   ],
   "source": [
    "import pennylane as qml\n",
    "from pennylane import numpy as np\n",
    "\n",
    "# Define the Hamiltonian\n",
    "H = -6 * qml.Identity(1) + \\\n",
    "    0.5 * qml.PauliZ(1) @ qml.PauliZ(4) + \\\n",
    "    0.5 * qml.PauliZ(2) @ qml.PauliZ(3) + \\\n",
    "    0.5 * qml.PauliZ(3) @ qml.PauliZ(5) + \\\n",
    "    0.5 * qml.PauliZ(4) @ qml.PauliZ(4)\n",
    "\n",
    "print(H)\n",
    "\n",
    "# Specify the hardware device (e.g., 'Borealis')\n",
    "dev = qml.device(\"borealis\", wires=6, shots=1000)\n",
    "\n",
    "@qml.qnode(dev)\n",
    "def circuit(params):\n",
    "    for param, wire in zip(params, H.wires):\n",
    "        qml.RY(param, wires=wire)\n",
    "    return qml.expval(H)\n",
    "\n",
    "# Initial circuit run\n",
    "circuit([0, 0, 0, 0])\n",
    "\n",
    "# Optimization Loop\n",
    "params = np.random.rand(len(H.wires))\n",
    "opt = qml.AdagradOptimizer(stepsize=0.5)\n",
    "epochs = 200\n",
    "\n",
    "for epoch in range(epochs):\n",
    "    params = opt.step(circuit, params)\n",
    "\n",
    "# Final circuit run\n",
    "circuit(params)\n",
    "\n",
    "# Sampling from the Optimized Circuit\n",
    "@qml.qnode(dev)\n",
    "def sample_circuit(params):\n",
    "    for param, wire in zip(params, H.wires):\n",
    "        qml.RY(param, wires=wire)\n",
    "    return qml.sample()\n",
    "\n",
    "# Run the sample circuit\n",
    "sample = sample_circuit(params)\n",
    "print(sample)\n"
   ]
  },
  {
   "cell_type": "code",
   "execution_count": null,
   "id": "b0bb76f6-1f37-438e-8387-57d4a349be01",
   "metadata": {},
   "outputs": [],
   "source": []
  },
  {
   "cell_type": "code",
   "execution_count": null,
   "id": "8839e750-cae0-40d2-b29f-45d190f87fc6",
   "metadata": {},
   "outputs": [],
   "source": []
  },
  {
   "cell_type": "code",
   "execution_count": null,
   "id": "ceec08d4-519d-45b8-9655-1186361d2313",
   "metadata": {},
   "outputs": [],
   "source": []
  }
 ],
 "metadata": {
  "kernelspec": {
   "display_name": "Python 3 (ipykernel)",
   "language": "python",
   "name": "python3"
  },
  "language_info": {
   "codemirror_mode": {
    "name": "ipython",
    "version": 3
   },
   "file_extension": ".py",
   "mimetype": "text/x-python",
   "name": "python",
   "nbconvert_exporter": "python",
   "pygments_lexer": "ipython3",
   "version": "3.9.13"
  }
 },
 "nbformat": 4,
 "nbformat_minor": 5
}
