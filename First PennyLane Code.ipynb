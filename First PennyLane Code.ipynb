{
 "cells": [
  {
   "cell_type": "code",
   "execution_count": 1,
   "id": "412f18cd-7a30-45f9-aba3-b58398ac1fd0",
   "metadata": {},
   "outputs": [],
   "source": [
    "import pennylane as qml"
   ]
  },
  {
   "cell_type": "code",
   "execution_count": 2,
   "id": "672bbcd5-22b3-48f2-9b36-aee2acfe2348",
   "metadata": {},
   "outputs": [],
   "source": [
    "dev = qml.device('default.qubit',wires=1)"
   ]
  },
  {
   "cell_type": "code",
   "execution_count": null,
   "id": "f77a54ed-132a-44df-9e35-7fff71eaedea",
   "metadata": {},
   "outputs": [],
   "source": []
  }
 ],
 "metadata": {
  "kernelspec": {
   "display_name": "Python 3 (ipykernel)",
   "language": "python",
   "name": "python3"
  },
  "language_info": {
   "codemirror_mode": {
    "name": "ipython",
    "version": 3
   },
   "file_extension": ".py",
   "mimetype": "text/x-python",
   "name": "python",
   "nbconvert_exporter": "python",
   "pygments_lexer": "ipython3",
   "version": "3.9.13"
  }
 },
 "nbformat": 4,
 "nbformat_minor": 5
}
