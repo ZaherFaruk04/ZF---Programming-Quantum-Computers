{
 "cells": [
  {
   "cell_type": "code",
   "execution_count": 1,
   "id": "4780d536-51ce-4113-95d8-2267da91cd95",
   "metadata": {},
   "outputs": [
    {
     "name": "stdout",
     "output_type": "stream",
     "text": [
      "-6 * I(1) + (0.5 * Z(1)) @ Z(4) + (0.5 * Z(2)) @ Z(3) + (0.5 * Z(3)) @ Z(5) + (0.5 * Z(4)) @ Z(4)\n"
     ]
    },
    {
     "ename": "TypeError",
     "evalue": "__init__() missing 1 required keyword-only argument: 'cutoff_dim'",
     "output_type": "error",
     "traceback": [
      "\u001b[1;31m---------------------------------------------------------------------------\u001b[0m",
      "\u001b[1;31mTypeError\u001b[0m                                 Traceback (most recent call last)",
      "Cell \u001b[1;32mIn[1], line 14\u001b[0m\n\u001b[0;32m     11\u001b[0m \u001b[38;5;28mprint\u001b[39m(H)\n\u001b[0;32m     13\u001b[0m \u001b[38;5;66;03m# Specify the hardware device (e.g., 'Aurora')\u001b[39;00m\n\u001b[1;32m---> 14\u001b[0m dev \u001b[38;5;241m=\u001b[39m \u001b[43mqml\u001b[49m\u001b[38;5;241;43m.\u001b[39;49m\u001b[43mdevice\u001b[49m\u001b[43m(\u001b[49m\u001b[38;5;124;43m\"\u001b[39;49m\u001b[38;5;124;43mstrawberryfields.fock\u001b[39;49m\u001b[38;5;124;43m\"\u001b[39;49m\u001b[43m,\u001b[49m\u001b[43m \u001b[49m\u001b[43mwires\u001b[49m\u001b[38;5;241;43m=\u001b[39;49m\u001b[38;5;241;43m6\u001b[39;49m\u001b[43m,\u001b[49m\u001b[43m \u001b[49m\u001b[43mshots\u001b[49m\u001b[38;5;241;43m=\u001b[39;49m\u001b[38;5;241;43m1000\u001b[39;49m\u001b[43m)\u001b[49m\n\u001b[0;32m     16\u001b[0m \u001b[38;5;129m@qml\u001b[39m\u001b[38;5;241m.\u001b[39mqnode(dev)\n\u001b[0;32m     17\u001b[0m \u001b[38;5;28;01mdef\u001b[39;00m \u001b[38;5;21mcircuit\u001b[39m(params):\n\u001b[0;32m     18\u001b[0m     \u001b[38;5;28;01mfor\u001b[39;00m param, wire \u001b[38;5;129;01min\u001b[39;00m \u001b[38;5;28mzip\u001b[39m(params, H\u001b[38;5;241m.\u001b[39mwires):\n",
      "File \u001b[1;32m~\\AppData\\Local\\Programs\\Python\\Python39\\lib\\site-packages\\pennylane\\devices\\device_constructor.py:280\u001b[0m, in \u001b[0;36mdevice\u001b[1;34m(name, *args, **kwargs)\u001b[0m\n\u001b[0;32m    274\u001b[0m         \u001b[38;5;28;01mraise\u001b[39;00m qml\u001b[38;5;241m.\u001b[39mDeviceError(\n\u001b[0;32m    275\u001b[0m             \u001b[38;5;124mf\u001b[39m\u001b[38;5;124m\"\u001b[39m\u001b[38;5;124mThe \u001b[39m\u001b[38;5;132;01m{\u001b[39;00mname\u001b[38;5;132;01m}\u001b[39;00m\u001b[38;5;124m plugin requires PennyLane versions \u001b[39m\u001b[38;5;132;01m{\u001b[39;00mrequired_versions\u001b[38;5;132;01m}\u001b[39;00m\u001b[38;5;124m, \u001b[39m\u001b[38;5;124m\"\u001b[39m\n\u001b[0;32m    276\u001b[0m             \u001b[38;5;124mf\u001b[39m\u001b[38;5;124m\"\u001b[39m\u001b[38;5;124mhowever PennyLane version \u001b[39m\u001b[38;5;132;01m{\u001b[39;00mqml\u001b[38;5;241m.\u001b[39mversion()\u001b[38;5;132;01m}\u001b[39;00m\u001b[38;5;124m is installed.\u001b[39m\u001b[38;5;124m\"\u001b[39m\n\u001b[0;32m    277\u001b[0m         )\n\u001b[0;32m    279\u001b[0m \u001b[38;5;66;03m# Construct the device\u001b[39;00m\n\u001b[1;32m--> 280\u001b[0m dev \u001b[38;5;241m=\u001b[39m plugin_device_class(\u001b[38;5;241m*\u001b[39margs, \u001b[38;5;241m*\u001b[39m\u001b[38;5;241m*\u001b[39moptions)\n\u001b[0;32m    282\u001b[0m \u001b[38;5;66;03m# Once the device is constructed, we set its custom expansion function if\u001b[39;00m\n\u001b[0;32m    283\u001b[0m \u001b[38;5;66;03m# any custom decompositions were specified.\u001b[39;00m\n\u001b[0;32m    284\u001b[0m \u001b[38;5;28;01mif\u001b[39;00m custom_decomps \u001b[38;5;129;01mis\u001b[39;00m \u001b[38;5;129;01mnot\u001b[39;00m \u001b[38;5;28;01mNone\u001b[39;00m:\n",
      "\u001b[1;31mTypeError\u001b[0m: __init__() missing 1 required keyword-only argument: 'cutoff_dim'"
     ]
    }
   ],
   "source": [
    "import pennylane as qml\n",
    "from pennylane import numpy as np\n",
    "\n",
    "# Define the Hamiltonian\n",
    "H = -6 * qml.Identity(1) + \\\n",
    "    0.5 * qml.PauliZ(1) @ qml.PauliZ(4) + \\\n",
    "    0.5 * qml.PauliZ(2) @ qml.PauliZ(3) + \\\n",
    "    0.5 * qml.PauliZ(3) @ qml.PauliZ(5) + \\\n",
    "    0.5 * qml.PauliZ(4) @ qml.PauliZ(4)\n",
    "\n",
    "print(H)\n",
    "\n",
    "# Specify the hardware device (e.g., 'Aurora')\n",
    "dev = qml.device(\"strawberryfields.fock\", wires=6, shots=1000)\n",
    "\n",
    "@qml.qnode(dev)\n",
    "def circuit(params):\n",
    "    for param, wire in zip(params, H.wires):\n",
    "        qml.RY(param, wires=wire)\n",
    "    return qml.expval(H)\n",
    "\n",
    "# Initial circuit run\n",
    "circuit([0, 0, 0, 0])\n",
    "\n",
    "# Optimisation Loop\n",
    "params = np.random.rand(len(H.wires))\n",
    "opt = qml.AdagradOptimizer(stepsize=0.5)\n",
    "epochs = 200\n",
    "\n",
    "for epoch in range(epochs):\n",
    "    params = opt.step(circuit, params)\n",
    "\n",
    "# Final circuit run\n",
    "circuit(params)\n",
    "\n",
    "# Sampling from the Optimised Circuit\n",
    "@qml.qnode(dev)\n",
    "def sample_circuit(params):\n",
    "    for param, wire in zip(params, H.wires):\n",
    "        qml.RY(param, wires=wire)\n",
    "    return qml.sample()\n",
    "\n",
    "# Run the sample circuit\n",
    "sample = sample_circuit(params)\n",
    "print(sample)\n"
   ]
  },
  {
   "cell_type": "code",
   "execution_count": null,
   "id": "5da183d2-6b1e-41da-8282-797243de7c47",
   "metadata": {},
   "outputs": [],
   "source": []
  }
 ],
 "metadata": {
  "kernelspec": {
   "display_name": "Python 3 (ipykernel)",
   "language": "python",
   "name": "python3"
  },
  "language_info": {
   "codemirror_mode": {
    "name": "ipython",
    "version": 3
   },
   "file_extension": ".py",
   "mimetype": "text/x-python",
   "name": "python",
   "nbconvert_exporter": "python",
   "pygments_lexer": "ipython3",
   "version": "3.9.13"
  }
 },
 "nbformat": 4,
 "nbformat_minor": 5
}
