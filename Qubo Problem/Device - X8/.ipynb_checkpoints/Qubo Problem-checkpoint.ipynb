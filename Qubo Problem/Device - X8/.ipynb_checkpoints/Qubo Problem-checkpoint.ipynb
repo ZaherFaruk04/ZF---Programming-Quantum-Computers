{
 "cells": [
  {
   "cell_type": "code",
   "execution_count": null,
   "id": "cdd408d8-1bd7-4803-a4e1-07421d3290a0",
   "metadata": {},
   "outputs": [],
   "source": [
    "import pennylane as qml\n",
    "from pennylane import numpy as np\n",
    "\n",
    "# Define the Hamiltonian\n",
    "H = -6 * qml.Identity(1) + \\\n",
    "    0.5 * qml.PauliZ(1) @ qml.PauliZ(4) + \\\n",
    "    0.5 * qml.PauliZ(2) @ qml.PauliZ(3) + \\\n",
    "    0.5 * qml.PauliZ(3) @ qml.PauliZ(5) + \\\n",
    "    0.5 * qml.PauliZ(4) @ qml.PauliZ(4)\n",
    "\n",
    "print(H)\n",
    "\n",
    "# Specify the real hardware device (e.g., 'X8')\n",
    "dev = qml.device(\"strawberryfields.X8\", wires=6, shots=1000)\n",
    "\n",
    "@qml.qnode(dev)\n",
    "def circuit(params):\n",
    "    for param, wire in zip(params, H.wires):\n",
    "        qml.RY(param, wires=wire)\n",
    "    return qml.expval(H)\n",
    "\n",
    "# Initial circuit run\n",
    "circuit([0, 0, 0, 0])\n",
    "\n",
    "# Optimization Loop\n",
    "params = np.random.rand(len(H.wires))\n",
    "opt = qml.AdagradOptimizer(stepsize=0.5)\n",
    "epochs = 200\n",
    "\n",
    "for epoch in range(epochs):\n",
    "    params = opt.step(circuit, params)\n",
    "\n",
    "# Final circuit run\n",
    "circuit(params)\n",
    "\n",
    "# Sampling from the Optimized Circuit\n",
    "@qml.qnode(dev)\n",
    "def sample_circuit(params):\n",
    "    for param, wire in zip(params, H.wires):\n",
    "        qml.RY(param, wires=wire)\n",
    "    return qml.sample()\n",
    "\n",
    "# Run the sample circuit\n",
    "sample = sample_circuit(params)\n",
    "print(sample)\n"
   ]
  }
 ],
 "metadata": {
  "kernelspec": {
   "display_name": "Python 3 (ipykernel)",
   "language": "python",
   "name": "python3"
  },
  "language_info": {
   "codemirror_mode": {
    "name": "ipython",
    "version": 3
   },
   "file_extension": ".py",
   "mimetype": "text/x-python",
   "name": "python",
   "nbconvert_exporter": "python",
   "pygments_lexer": "ipython3",
   "version": "3.9.13"
  }
 },
 "nbformat": 4,
 "nbformat_minor": 5
}
