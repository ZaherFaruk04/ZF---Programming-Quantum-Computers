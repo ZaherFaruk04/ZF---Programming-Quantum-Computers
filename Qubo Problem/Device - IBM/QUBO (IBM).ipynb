{
 "cells": [
  {
   "cell_type": "code",
   "execution_count": null,
   "id": "9c1a4b8b-2c68-4e44-afb2-156e1448334a",
   "metadata": {},
   "outputs": [],
   "source": [
    "import pennylane as qml\n",
    "from pennylane import numpy as np\n",
    "from qiskit import IBMQ\n",
    "\n",
    "IBMQ.enable_account(\n",
    "    \"0bd95fc0907cac40148da3abd36d4821f1ad224b12909748bbf88cd4517c2099129991d3f5cac7ca0159907f8c294d48e432bc7d4d8c077ce72abf3dfed19fd6\"\n",
    ")\n",
    "\n",
    "# Defines the Hamiltonian\n",
    "H = (\n",
    "    -6 * qml.Identity(0)\n",
    "    + 0.5 * qml.PauliZ(0) @ qml.PauliZ(1)\n",
    "    + 0.5 * qml.PauliZ(1) @ qml.PauliZ(2)\n",
    "    + 0.5 * qml.PauliZ(2) @ qml.PauliZ(3)\n",
    "    + 0.5 * qml.PauliZ(3) @ qml.PauliZ(4)\n",
    "    + 0.5 * qml.PauliZ(4) @ qml.PauliZ(5)\n",
    ")\n",
    "\n",
    "# Creates the IBMQ device\n",
    "dev = qml.device(\"qiskit.ibmq\", wires=6, backend=\"ibmq_quito\", shots=1024)\n",
    "\n",
    "@qml.qnode(dev)\n",
    "def circuit(params):\n",
    "    for p, w in zip(params, range(6)):\n",
    "        qml.RY(p, wires=w)\n",
    "    return qml.expval(H)\n",
    "\n",
    "@qml.qnode(dev)\n",
    "def sample_circuit(params):\n",
    "    for p, w in zip(params, range(6)):\n",
    "        qml.RY(p, wires=w)\n",
    "    return qml.sample()\n",
    "\n",
    "# 1) Initial expectation\n",
    "init = circuit([0]*6)\n",
    "print(\"Initial Energy:\", init)\n",
    "\n",
    "# 2) Optimisation\n",
    "opt = qml.AdagradOptimizer(stepsize=0.5)\n",
    "params = np.random.rand(6)\n",
    "for _ in range(200):\n",
    "    params = opt.step(circuit, params)\n",
    "\n",
    "# 3) Final energy & sampling\n",
    "final = circuit(params)\n",
    "print(\"Final Energy: \", final)\n",
    "print(\"Sampled Bitstring:\", sample_circuit(params))\n"
   ]
  },
  {
   "cell_type": "code",
   "execution_count": null,
   "id": "9fe06148-1344-4947-98c8-e90303c6f88c",
   "metadata": {},
   "outputs": [],
   "source": []
  },
  {
   "cell_type": "code",
   "execution_count": null,
   "id": "76035236-8032-41fa-a1d5-94b38b89eeb8",
   "metadata": {},
   "outputs": [],
   "source": []
  },
  {
   "cell_type": "code",
   "execution_count": null,
   "id": "a5ae4762-21d2-45d1-a0d0-d63b0c851561",
   "metadata": {},
   "outputs": [],
   "source": []
  },
  {
   "cell_type": "code",
   "execution_count": null,
   "id": "cced3b3d-f273-4f4c-b4ee-9a6a9d887e79",
   "metadata": {},
   "outputs": [],
   "source": []
  },
  {
   "cell_type": "code",
   "execution_count": null,
   "id": "adcd682a-4fae-4a7b-916b-b8beb40e0267",
   "metadata": {},
   "outputs": [],
   "source": []
  },
  {
   "cell_type": "code",
   "execution_count": null,
   "id": "73cd9187-6416-4980-9cf0-269588e8061a",
   "metadata": {},
   "outputs": [],
   "source": []
  },
  {
   "cell_type": "code",
   "execution_count": null,
   "id": "adc98de8-ae7d-4697-92e9-d6c738361352",
   "metadata": {},
   "outputs": [],
   "source": []
  },
  {
   "cell_type": "code",
   "execution_count": null,
   "id": "0a4d7e6b-ce2d-48b8-806b-e51924e425b7",
   "metadata": {},
   "outputs": [],
   "source": []
  },
  {
   "cell_type": "code",
   "execution_count": null,
   "id": "30979865-70ae-4227-a42a-e365b75ed392",
   "metadata": {},
   "outputs": [],
   "source": []
  },
  {
   "cell_type": "code",
   "execution_count": null,
   "id": "0611d16a-2145-44df-aaa8-ff8e1b5d3365",
   "metadata": {},
   "outputs": [],
   "source": []
  },
  {
   "cell_type": "code",
   "execution_count": null,
   "id": "9f42be62-50f2-48e1-84c6-77677f29cc13",
   "metadata": {},
   "outputs": [],
   "source": []
  }
 ],
 "metadata": {
  "kernelspec": {
   "display_name": "Python 3 (ipykernel)",
   "language": "python",
   "name": "python3"
  },
  "language_info": {
   "codemirror_mode": {
    "name": "ipython",
    "version": 3
   },
   "file_extension": ".py",
   "mimetype": "text/x-python",
   "name": "python",
   "nbconvert_exporter": "python",
   "pygments_lexer": "ipython3",
   "version": "3.9.13"
  }
 },
 "nbformat": 4,
 "nbformat_minor": 5
}
